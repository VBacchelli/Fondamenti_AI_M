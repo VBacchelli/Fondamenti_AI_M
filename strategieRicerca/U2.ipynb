{
 "cells": [
  {
   "cell_type": "markdown",
   "id": "16990ca2-4ee0-4ee5-88d3-65466c548296",
   "metadata": {},
   "source": [
    "# U2 - a lab activity on search strategies\n",
    "---"
   ]
  },
  {
   "cell_type": "markdown",
   "id": "a7dc6c09-c63c-4546-b87c-19bb67ca3622",
   "metadata": {},
   "source": [
    "## Prerequisites\n",
    "\n",
    "- Python 3 (correctly installed)\n",
    "\n",
    "- module `numpy`\n",
    "\n",
    "- the AIMA libraries for search; two alternatives:\n",
    "    - either (git-)clone the AIMA repository: <https://github.com/aimacode/aima-python>\n",
    "    - or download from the course site the `search.py` file\n",
    "\n",
    "- file `reporting.py`: contains some useful functions for inspecting what's going on\n",
    "\n",
    "- file `utils.py`: it is used by some search implementations, simply place it in the same folder.\n",
    "\n",
    "---\n"
   ]
  },
  {
   "cell_type": "markdown",
   "id": "bca0d85e-5603-40d9-b0bd-96bf9477a894",
   "metadata": {},
   "source": [
    "## The AIMA search library\n",
    "\n",
    "The library provided with the textbook contains an implementation of the most notable search strategies.\n",
    "\n",
    "To use them, two main steps:\n",
    "1. **Decide a representation of a state**. A state can be represented with any object you like. However, in order to correctly use the Graph-search algorithms, the `__eq__()` method should be overrided correctly. *Suggestion: in the first exercise, opt to represent the state using a tuple. The `__eq__()` method iis already properly overridden, so it would be an easy way for starting with.*\n",
    "\n",
    "2. **Define a new class**, that will inherit form the class `Problem`, and that will contain the methods and the attributes needed to apply the search strategies. In particular, our new subclass of `Problem` will have to implement/override:\n",
    "    - constructor `def __init__(self, initial, goal=None)`:\n",
    "        \n",
    "        > *'''The constructor specifies the initial state, and possibly a goal state, if there is a unique goal. Your subclass's constructor can add other arguments.'''*\n",
    "    \n",
    "    - method `def actions(self, state):`\n",
    "        \n",
    "        > *'''Return the actions that can be executed in the given state. The result would typically be a list, but if there are many actions, consider yielding them one at a time in an iterator, rather than building them all at once.'''*\n",
    "        \n",
    "    - method `def result(self, state, action):`\n",
    "        \n",
    "        > *'''Return the state that results from executing the given\n",
    "        action in the given state. The action must be one of\n",
    "        self.actions(state).'''*\n",
    "\n",
    "    - method `def goal_test(self, state):`\n",
    "        \n",
    "        > *'''Return True if the state is a goal. The default method compares the\n",
    "        state to self.goal or checks for state in self.goal if it is a\n",
    "        list, as specified in the constructor. Override this method if\n",
    "        checking against a single self.goal is not enough.'''*\n",
    "        \n",
    "    - method `def path_cost(self, c, state1, action, state2):`\n",
    "        \n",
    "        > *'''Return the cost of a solution path that arrives at state2 from\n",
    "        state1 via action, assuming cost c to get up to state1. If the problem\n",
    "        is such that the path doesn't matter, this function will only look at\n",
    "        state2. If the path does matter, it will consider c and maybe state1\n",
    "        and action. The default method costs 1.'''*\n",
    "        \n",
    "    - method `def h(self, node):`\n",
    "\t\t\n",
    "        > *'''Returns the heuristic applied to the Node node'''*"
   ]
  },
  {
   "cell_type": "markdown",
   "id": "e6e5a762-0bdf-45ee-9159-d1757d3138d9",
   "metadata": {},
   "source": [
    "## The U2 Problem\n",
    "\n",
    "*(This problem was given as an exam the 16th of December 2005)*  \n",
    "U2 are giving a concert in Dublin. **There are still 17 minutes.** Unfortunately, to reach the stage, the members of the band must cross a small, dark, and dangerous bridge... do not despair! They have a torch!!! (only one).\n",
    "\n",
    "The bridge allows the passing of two persons at a time. The torch is mandatory to cross the bridge, and should be brought back and forth (cannot be thrown...). All the members are on the wrong side of the bridge, far from the stage...\n",
    "\n",
    "Every member of the U2 walks at a different velocity, and they takes different time to cross the bridge: \n",
    "- Bono, **1 minute** \n",
    "- Edge, **2 minutes**\n",
    "- Adam, **5 minutes**\n",
    "- Larry, **10 minutes**\n",
    "If two members cross the bridge together, it will take them the highest time to cross it (i.e., the faster will walk at the velocity of the slower).  \n",
    "For example: if Bono and Larry will cross together, it will take them *10 minutes* to get over the bridge. If Larry brings back the torch, another 10 minutes will pass, and the mission will be failed.\n",
    "\n",
    "**Suggestion**: To limit the search space, suppose that the members move always in couple in one direction, and only one member brings back the torch.\n",
    "\n",
    "---\n",
    "\n",
    "### About the heuristic\n",
    "\n",
    "> - At most, only two persons can move at a time.\n",
    "> - Let us group the members in couples.\n",
    "> - Sort the member in descending order on the base of the crossing time, and:\n",
    ">> - put in the first group the two slower members\n",
    ">> - put in the second group the remaining members\n",
    ">> - Every group will move at the velocity of the slowest in the group.\n",
    "> - The heuristic function is the sum of the time required by each group still in the wrong side of the bridge.\n",
    "> - Is this heuristic function admissible? Will it find the best solution?\n",
    "\n",
    "---\n",
    "\n",
    "### About the implementation\n",
    "\n",
    "- Which state representation?\n",
    "\n",
    "- Which actions?\n",
    "\n",
    "- Which is the goal?\n",
    "\n",
    "- Which path cost?\n"
   ]
  },
  {
   "cell_type": "code",
   "execution_count": null,
   "id": "69b6f6f6-bfcc-4c5b-8972-e53d6925feba",
   "metadata": {},
   "outputs": [],
   "source": []
  }
 ],
 "metadata": {
  "kernelspec": {
   "display_name": "Python 3 (ipykernel)",
   "language": "python",
   "name": "python3"
  },
  "language_info": {
   "codemirror_mode": {
    "name": "ipython",
    "version": 3
   },
   "file_extension": ".py",
   "mimetype": "text/x-python",
   "name": "python",
   "nbconvert_exporter": "python",
   "pygments_lexer": "ipython3",
   "version": "3.12.10"
  }
 },
 "nbformat": 4,
 "nbformat_minor": 5
}
