{
 "cells": [
  {
   "cell_type": "markdown",
   "id": "72ec9cee-d1b5-4b3c-ba3b-cdd1ff730ce5",
   "metadata": {},
   "source": [
    "Rappresentiamo lo stato come (3,3,1) dove i valori rappresentano rispettivamente il numero di missionari sulla riva di partenza, il numero di cannibali sulla riva di partenza e se la barca si trova sulla riva iniziale. Quello che riguarda l'altra sponda si può dedurre da queste info.\n",
    "\n",
    "Lo stato iniziale è proprio (3,3,1)."
   ]
  },
  {
   "cell_type": "code",
   "execution_count": null,
   "id": "8631c904-1baa-4353-9d1e-2e5607860d78",
   "metadata": {},
   "outputs": [],
   "source": [
    "from search import * \n",
    "from reporting import * \n",
    "\n",
    "Class Missionars_Cannibals(Problem):\n",
    "    def _init_(self,initial):\n",
    "        goal=tuple(0,0,0)\n",
    "        super().__init__(initial, goal)\n",
    "\n",
    "    def actions(self, state):\n",
    "        miss,cann,boat=state\n",
    "        valid_moves=[]\n",
    "        steps = [\n",
    "            (-1,-1,-1), (-2,0,-1), (0,-2,-1), # spostare roba dalla riva di partenza all'altra\n",
    "            (+1,+1,+1), (+2,0,+1), (0,+2,+1)  # spostare roba dall'altra sponda a quella di partenza\n",
    "        ]\n",
    "    \n",
    "        for a,b,c in steps:\n",
    "            new_miss, new_cann, new_boat = miss+a, cann+b, boat+c\n",
    "            if 0 <= new_boat <= 1 and 0 <= new_miss <= 2 and 0 <= new_cann <=2:\n",
    "                valid_moves.append((new_miss,new_cann,new_boat))\n",
    "        return valid_moves\n",
    "        \n",
    "\n",
    "    def result(self,state,action):\n",
    "        \n",
    "\n",
    "    def path_cost(self, c, state1, action, state2):\n",
    "        \"\"\"The cost of moving to the next state is always 1.\"\"\"\n",
    "        return c + 1\n",
    "        \n",
    "initial_state=tuple(3,3,1)\n",
    "problem=Missionars_Cannibals(initial_state)\n",
    "\n",
    "solution = best_first_graph_search(problem, lambda node: (len(fun(node.state))+ 1/(node.depth+1)))\n",
    "\n",
    "if solution:\n",
    "    print(\"Solution found with cost:\", solution.path_cost)\n",
    "    path=path_actions(solution)\n",
    "    print(path)\n",
    "    path = path_states(soln)\n",
    "    print(path)\n",
    "else:\n",
    "    print(\"No solution found.\")\n"
   ]
  }
 ],
 "metadata": {
  "kernelspec": {
   "display_name": "Python 3 (ipykernel)",
   "language": "python",
   "name": "python3"
  },
  "language_info": {
   "codemirror_mode": {
    "name": "ipython",
    "version": 3
   },
   "file_extension": ".py",
   "mimetype": "text/x-python",
   "name": "python",
   "nbconvert_exporter": "python",
   "pygments_lexer": "ipython3",
   "version": "3.12.10"
  }
 },
 "nbformat": 4,
 "nbformat_minor": 5
}
